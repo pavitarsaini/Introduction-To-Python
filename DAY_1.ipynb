{
  "nbformat": 4,
  "nbformat_minor": 0,
  "metadata": {
    "kernelspec": {
      "display_name": "Python 3",
      "language": "python",
      "name": "python3"
    },
    "language_info": {
      "codemirror_mode": {
        "name": "ipython",
        "version": 3
      },
      "file_extension": ".py",
      "mimetype": "text/x-python",
      "name": "python",
      "nbconvert_exporter": "python",
      "pygments_lexer": "ipython3",
      "version": "3.6.5"
    },
    "colab": {
      "name": "DAY 1.ipynb",
      "provenance": [],
      "collapsed_sections": [
        "sD49N7OW59Ai",
        "4Tqi-Tqm59Ai",
        "0xyRnBwp59Aj",
        "r1l6Fz8q59Aj",
        "D0ePQ8wH59Ak",
        "_uZ0N8xV59Ak"
      ],
      "include_colab_link": true
    }
  },
  "cells": [
    {
      "cell_type": "markdown",
      "metadata": {
        "id": "view-in-github",
        "colab_type": "text"
      },
      "source": [
        "<a href=\"https://colab.research.google.com/github/pavitarsaini/Introduction-To-Python/blob/main/DAY_1.ipynb\" target=\"_parent\"><img src=\"https://colab.research.google.com/assets/colab-badge.svg\" alt=\"Open In Colab\"/></a>"
      ]
    },
    {
      "cell_type": "markdown",
      "metadata": {
        "id": "cws6rd6c59AV"
      },
      "source": [
        "# An introduction to Python\n",
        "\n",
        "## Session 1:"
      ]
    },
    {
      "cell_type": "markdown",
      "metadata": {
        "id": "0P9bw5FE59Ab"
      },
      "source": [
        "## What are we learning today?\n",
        "\n",
        "- A bit about python\n",
        "- Our first command... print!\n",
        "\n",
        "####GOAL: Be able to print simple text."
      ]
    },
    {
      "cell_type": "markdown",
      "metadata": {
        "id": "5FrIVqBVjnAJ"
      },
      "source": [
        "Welcome to Python Day 1\r\n",
        "\r\n",
        "Here we will write our first command!"
      ]
    },
    {
      "cell_type": "code",
      "metadata": {
        "id": "KfD-XpI_juWt"
      },
      "source": [
        ""
      ],
      "execution_count": null,
      "outputs": []
    },
    {
      "cell_type": "markdown",
      "metadata": {
        "id": "2K4_7wiU59Ab"
      },
      "source": [
        "## Printing values\n",
        "\n",
        "The first bit of python syntax we're going to learn is the <tt>print</tt> statement. This command lets us print messages to the user.\n",
        "\n",
        "We will go into details later on, but for now just note that to print some text you have to enclose it in  \"quotation marks\". "
      ]
    },
    {
      "cell_type": "code",
      "metadata": {
        "id": "wVuOtl2h59Ad",
        "colab": {
          "base_uri": "https://localhost:8080/"
        },
        "outputId": "2f259486-c34b-4a03-84e0-249699a2d1e9"
      },
      "source": [
        "print(\"Hello from python!\")"
      ],
      "execution_count": null,
      "outputs": [
        {
          "output_type": "stream",
          "text": [
            "Hello from python!\n"
          ],
          "name": "stdout"
        }
      ]
    },
    {
      "cell_type": "markdown",
      "metadata": {
        "id": "b7I7F8p459Am"
      },
      "source": [
        "## Exercises 1.1.1\n",
        "\n",
        "1. Write code to print your name in the space below."
      ]
    },
    {
      "cell_type": "code",
      "metadata": {
        "id": "z3fVEg1ElDBE"
      },
      "source": [
        ""
      ],
      "execution_count": null,
      "outputs": []
    },
    {
      "cell_type": "markdown",
      "metadata": {
        "id": "3ZWRLjkp59Ap"
      },
      "source": [
        "## Adding strings together.\n",
        "\n",
        "This is called **“Concatenation”**."
      ]
    },
    {
      "cell_type": "code",
      "metadata": {
        "id": "tnqPLicZmXDH"
      },
      "source": [
        "print('Hello, ' + 'world!')"
      ],
      "execution_count": null,
      "outputs": []
    },
    {
      "cell_type": "markdown",
      "metadata": {
        "id": "z7o8VQhznMKj"
      },
      "source": [
        "Why we need different quotes"
      ]
    },
    {
      "cell_type": "code",
      "metadata": {
        "id": "bNASNWPjnL3F"
      },
      "source": [
        "print('He said 'hello' to her.')"
      ],
      "execution_count": null,
      "outputs": []
    }
  ]
}